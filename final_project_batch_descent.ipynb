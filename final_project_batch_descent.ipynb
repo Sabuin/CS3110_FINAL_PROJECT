{
 "cells": [
  {
   "cell_type": "code",
   "execution_count": 19,
   "id": "7e062f70-76a8-404a-994d-c1d134d62c68",
   "metadata": {},
   "outputs": [],
   "source": [
    "import numpy as np\n",
    "\n",
    "\n",
    "class LogisticRegression():\n",
    "    @staticmethod\n",
    "    def loss(theta, x, y, lambda_param=None):\n",
    "        \"\"\"Loss function for logistic regression with without regularization\"\"\"\n",
    "        exponent = - y * (x.dot(theta))\n",
    "        return np.sum(np.log(1+np.exp(exponent))) / x.shape[0]\n",
    "\n",
    "    @staticmethod\n",
    "    def gradient(theta, x, y, lambda_param=None):\n",
    "        \"\"\"\n",
    "        Gradient function for logistic regression without regularization.\n",
    "        Based on the above logistic_regression\n",
    "        \"\"\"\n",
    "        exponent = y * (x.dot(theta))\n",
    "        gradient_loss = - (np.transpose(x) @ (y / (1+np.exp(exponent)))) / (\n",
    "            x.shape[0])\n",
    "\n",
    "        # Reshape to handle case where x is csr_matrix\n",
    "        gradient_loss.reshape(theta.shape)\n",
    "\n",
    "        return gradient_loss\n",
    "\n",
    "\n",
    "class LogisticRegressionSinglePoint():\n",
    "    @staticmethod\n",
    "    def loss(theta, xi, yi, lambda_param=None):\n",
    "        exponent = - yi * (xi.dot(theta))\n",
    "        return np.log(1 + np.exp(exponent))\n",
    "\n",
    "    @staticmethod\n",
    "    def gradient(theta, xi, yi, lambda_param=None):\n",
    "\n",
    "        # Based on page 22 of\n",
    "        # http://www.cs.rpi.edu/~magdon/courses/LFD-Slides/SlidesLect09.pdf\n",
    "        exponent = yi * (xi.dot(theta))\n",
    "        return - (yi*xi) / (1+np.exp(exponent))\n",
    "\n",
    "\n",
    "class LogisticRegressionRegular():\n",
    "    @staticmethod\n",
    "    def loss(theta, x, y, lambda_param):\n",
    "        regularization = (lambda_param/2) * np.sum(theta*theta)\n",
    "        return LogisticRegression.loss(theta, x, y) + regularization\n",
    "\n",
    "    @staticmethod\n",
    "    def gradient(theta, x, y, lambda_param):\n",
    "        regularization = lambda_param * theta\n",
    "        return LogisticRegression.gradient(theta, x, y) + regularization"
   ]
  },
  {
   "cell_type": "code",
   "execution_count": 5,
   "id": "9a1a8281-fb3e-4423-b668-589c260bc339",
   "metadata": {},
   "outputs": [],
   "source": [
    "'''\n",
    "Functions from in-class exercises\n",
    "'''\n",
    "# Load the data and libraries\n",
    "import pandas as pd\n",
    "import numpy as np\n",
    "from scipy import stats\n",
    "import matplotlib.pyplot as plt\n",
    "from sklearn.linear_model import LogisticRegression\n",
    "\n",
    "def laplace_mech(v, sensitivity, epsilon):\n",
    "    return v + np.random.laplace(loc=0, scale=sensitivity / epsilon)\n",
    "\n",
    "def laplace_mech_vec(vec, sensitivity, epsilon):\n",
    "    return [v + np.random.laplace(loc=0, scale=sensitivity / epsilon) for v in vec]\n",
    "\n",
    "def gaussian_mech(v, sensitivity, epsilon, delta):\n",
    "    return v + np.random.normal(loc=0, scale=sensitivity * np.sqrt(2*np.log(1.25/delta)) / epsilon)\n",
    "\n",
    "def gaussian_mech_vec(vec, sensitivity, epsilon, delta):\n",
    "    return [v + np.random.normal(loc=0, scale=sensitivity * np.sqrt(2*np.log(1.25/delta)) / epsilon)\n",
    "            for v in vec]\n",
    "\n",
    "def pct_error(orig, priv):\n",
    "    return np.abs(orig - priv)/orig * 100.0"
   ]
  },
  {
   "cell_type": "code",
   "execution_count": 6,
   "id": "a181eb98-d44b-45f1-ac6f-657e6ef8b5d1",
   "metadata": {},
   "outputs": [],
   "source": [
    "# Load data files\n",
    "import numpy as np\n",
    "import urllib.request\n",
    "import io\n",
    "\n",
    "url_x = 'https://github.com/jnear/cs211-data-privacy/raw/master/slides/adult_processed_x.npy'\n",
    "url_y = 'https://github.com/jnear/cs211-data-privacy/raw/master/slides/adult_processed_y.npy'\n",
    "\n",
    "with urllib.request.urlopen(url_x) as url:\n",
    "    f = io.BytesIO(url.read())\n",
    "X = np.load(f)\n",
    "\n",
    "with urllib.request.urlopen(url_y) as url:\n",
    "    f = io.BytesIO(url.read())\n",
    "y = np.load(f)"
   ]
  },
  {
   "cell_type": "code",
   "execution_count": 7,
   "id": "8f2667d8-4558-4314-9b1d-8663c716e298",
   "metadata": {},
   "outputs": [
    {
     "name": "stdout",
     "output_type": "stream",
     "text": [
      "Train and test set sizes: 36176 9044\n"
     ]
    }
   ],
   "source": [
    "# Split data into training and test sets\n",
    "training_size = int(X.shape[0] * 0.8)\n",
    "\n",
    "X_train = X[:training_size]\n",
    "X_test = X[training_size:]\n",
    "\n",
    "y_train = y[:training_size]\n",
    "y_test = y[training_size:]\n",
    "\n",
    "print('Train and test set sizes:', len(y_train), len(y_test))"
   ]
  },
  {
   "cell_type": "code",
   "execution_count": 8,
   "id": "3990dfbf-1284-4bbb-b0d2-82ba2f150f68",
   "metadata": {},
   "outputs": [],
   "source": [
    "'''\n",
    "Functions taken from in-class-exercise 10.28.24\n",
    "'''\n",
    "# Prediction: take a model (theta) and a single example (xi) and return its predicted label\n",
    "def predict(xi, theta, bias=0):\n",
    "    label = np.sign(xi @ theta + bias) #this is the dot product and take the sign. \n",
    "    return label\n",
    "\n",
    "def accuracy(theta):\n",
    "    return np.sum(predict(X_test, theta) == y_test)/X_test.shape[0]\n",
    "\n",
    "def L2_clip(v, b):\n",
    "    norm = np.linalg.norm(v, ord=2) #computing L2 norm \n",
    "    \n",
    "    if norm > b:\n",
    "        return b * (v / norm)\n",
    "    else:\n",
    "        return v\n",
    "\n",
    "def gradient_sum(theta, X, y, b):\n",
    "    gradients = [L2_clip(gradient(theta, x_i, y_i), b) for x_i, y_i in zip(X,y)]\n",
    "        \n",
    "    # sum query\n",
    "    # L2 sensitivity is b (by clipping performed above)\n",
    "    return np.sum(gradients, axis=0)\n",
    "#theta = [-.1 for _ in range(104)]\n",
    "#accuracy(theta)"
   ]
  },
  {
   "cell_type": "markdown",
   "id": "5701da67-a821-4b8a-a213-b95f27d92d43",
   "metadata": {},
   "source": [
    "### IMPLEMENTING BATCH GRADIENT DESCENT ###"
   ]
  },
  {
   "cell_type": "code",
   "execution_count": 164,
   "id": "fbd54f8d-21d9-4c79-8899-3921adca2b23",
   "metadata": {},
   "outputs": [
    {
     "name": "stdout",
     "output_type": "stream",
     "text": [
      "Final accuracy with epochs = 20, learning rate = .1:   0.7585139318885449\n",
      "Final accuracy with epochs = 40, learning rate = .1:   0.7587350729765591\n",
      "Final accuracy with epochs = 60, learning rate = .1:   0.7628261831048209\n",
      "Final accuracy with epochs = 80, learning rate = .1:   0.7778637770897833\n",
      "Final accuracy with epochs = 100, learning rate = .1:   0.7807386112339673\n",
      "Final accuracy with epochs = 20, learning rate = 1:   0.8081601061477223\n",
      "Final accuracy with epochs = 40, learning rate = 1:   0.8159000442282176\n",
      "Final accuracy with epochs = 60, learning rate = 1:   0.8182220256523662\n",
      "Final accuracy with epochs = 80, learning rate = 1:   0.8209862892525431\n",
      "Final accuracy with epochs = 100, learning rate = 1:   0.8228659885006634\n"
     ]
    }
   ],
   "source": [
    "import numpy as np\n",
    "\n",
    "\n",
    "class LogisticRegression():\n",
    "    @staticmethod\n",
    "    def loss(theta, x, y, lambda_param=None):\n",
    "        \"\"\"Loss function for logistic regression with without regularization\"\"\"\n",
    "        exponent = - y * (x.dot(theta))\n",
    "        return np.sum(np.log(1+np.exp(exponent))) / x.shape[0]\n",
    "\n",
    "    @staticmethod\n",
    "    def gradient(theta, x, y, lambda_param=None):\n",
    "        \"\"\"\n",
    "        Gradient function for logistic regression without regularization.\n",
    "        Based on the above logistic_regression\n",
    "        \"\"\"\n",
    "        exponent = y * (x.dot(theta))\n",
    "        gradient_loss = - (np.transpose(x) @ (y / (1+np.exp(exponent)))) / (\n",
    "            x.shape[0])\n",
    "\n",
    "        # Reshape to handle case where x is csr_matrix\n",
    "        gradient_loss.reshape(theta.shape)\n",
    "\n",
    "        return gradient_loss\n",
    "\n",
    "def batch_gradient_descent(epochs, n):\n",
    "    \n",
    "    theta = np.zeros(X_train.shape[1])\n",
    "    regression = LogisticRegression()\n",
    "    \n",
    "    # Loop through epochs\n",
    "    for _ in range(epochs):\n",
    "        # Compute gradient using the vectorized function\n",
    "        \n",
    "        grad = regression.gradient(theta, X_train, y_train, lambda_param=None) \n",
    "\n",
    "        # Update the parameters (theta)\n",
    "        theta -= n * grad\n",
    "\n",
    "    #print(theta)\n",
    "    return theta\n",
    "\n",
    "theta0 = batch_gradient_descent(20, .1)\n",
    "theta1 = batch_gradient_descent(40, .1)\n",
    "theta2 = batch_gradient_descent(60, .1)\n",
    "theta3 = batch_gradient_descent(80, .1)\n",
    "theta4 = batch_gradient_descent(100, .1)\n",
    "theta5 = batch_gradient_descent(20, 1)\n",
    "theta6 = batch_gradient_descent(40, 1)\n",
    "theta7 = batch_gradient_descent(60, 1)\n",
    "theta8 = batch_gradient_descent(80, 1)\n",
    "theta9 = batch_gradient_descent(100, 1)\n",
    "\n",
    "print('Final accuracy with epochs = 20, learning rate = .1:  ', accuracy(theta0))\n",
    "print('Final accuracy with epochs = 40, learning rate = .1:  ', accuracy(theta1))\n",
    "print('Final accuracy with epochs = 60, learning rate = .1:  ', accuracy(theta2))\n",
    "print('Final accuracy with epochs = 80, learning rate = .1:  ', accuracy(theta3))\n",
    "print('Final accuracy with epochs = 100, learning rate = .1:  ', accuracy(theta4))\n",
    "print('Final accuracy with epochs = 20, learning rate = 1:  ', accuracy(theta5))\n",
    "print('Final accuracy with epochs = 40, learning rate = 1:  ', accuracy(theta6))\n",
    "print('Final accuracy with epochs = 60, learning rate = 1:  ', accuracy(theta7))\n",
    "print('Final accuracy with epochs = 80, learning rate = 1:  ', accuracy(theta8))\n",
    "print('Final accuracy with epochs = 100, learning rate = 1:  ', accuracy(theta9))"
   ]
  },
  {
   "cell_type": "markdown",
   "id": "961932eb-1c3a-4792-908a-551e3589a180",
   "metadata": {},
   "source": [
    "### EPSILON DP ###"
   ]
  },
  {
   "cell_type": "code",
   "execution_count": 40,
   "id": "efed7bc4-2401-4711-acc1-6703e6dea3ab",
   "metadata": {},
   "outputs": [
    {
     "name": "stderr",
     "output_type": "stream",
     "text": [
      "C:\\Users\\darkf\\AppData\\Local\\Temp\\ipykernel_41276\\321558702.py:18: RuntimeWarning: overflow encountered in exp\n",
      "  gradient_loss = - (np.transpose(x) @ (y / (1+np.exp(exponent)))) / (\n"
     ]
    },
    {
     "name": "stdout",
     "output_type": "stream",
     "text": [
      "Final accuracy with epsilon = .01:   0.2966607695709863\n",
      "Final accuracy with epsilon = .1:   0.5413533834586466\n",
      "Final accuracy with epsilon = 1:   0.5682220256523662\n",
      "Final accuracy with epsilon = 10:   0.7307607253427687\n",
      "Final accuracy with epsilon = 100:   0.3711853162317559\n",
      "Final accuracy with epsilon = 10 and epochs = 20:   0.6551304732419283\n"
     ]
    }
   ],
   "source": [
    "def batch_gradient_epsilon_descent(epochs, epsilon, n):\n",
    "    \n",
    "    theta = np.zeros(X_train.shape[1])\n",
    "    regression = LogisticRegression()\n",
    "    epsilon_i = epsilon/epochs\n",
    "    \n",
    "    # Loop through epochs\n",
    "    for _ in range(epochs):\n",
    "        # Compute gradient using the vectorized function\n",
    "        \n",
    "        grad = regression.gradient(theta, X_train, y_train, lambda_param=None)\n",
    "        grad_noisy = laplace_mech_vec(grad, sensitivity=1, epsilon=epsilon_i)\n",
    "        noisy_array = np.array(grad_noisy)\n",
    "\n",
    "        # Update the parameters (theta)\n",
    "        theta -= n * noisy_array\n",
    "\n",
    "    return theta\n",
    "    \n",
    "theta0 = batch_gradient_epsilon_descent(10, .01, 1)\n",
    "theta1 = batch_gradient_epsilon_descent(10, .1, 1)\n",
    "theta2 = batch_gradient_epsilon_descent(10, .5, 1)\n",
    "theta3 = batch_gradient_epsilon_descent(10, 1, 1)\n",
    "theta4 = batch_gradient_epsilon_descent(10, 5, 1)\n",
    "theta5 = batch_gradient_epsilon_descent(10, 10, 1)\n",
    "\n",
    "print('Final accuracy with epsilon = .01:  ', accuracy(theta0))\n",
    "print('Final accuracy with epsilon = .1:  ', accuracy(theta1))\n",
    "print('Final accuracy with epsilon = 1:  ', accuracy(theta2))\n",
    "print('Final accuracy with epsilon = 10:  ', accuracy(theta3))\n",
    "print('Final accuracy with epsilon = 100:  ', accuracy(theta4))\n",
    "print('Final accuracy with epsilon = 10 and epochs = 20:  ', accuracy(theta5))"
   ]
  },
  {
   "cell_type": "markdown",
   "id": "14826b67-dc4b-4a0a-bfae-7dc5dfc81419",
   "metadata": {},
   "source": [
    "### EPSILON DELTA DP ###"
   ]
  },
  {
   "cell_type": "code",
   "execution_count": 48,
   "id": "eac1e125-34d7-4dbe-be07-2fe623fa5447",
   "metadata": {},
   "outputs": [
    {
     "name": "stderr",
     "output_type": "stream",
     "text": [
      "C:\\Users\\darkf\\AppData\\Local\\Temp\\ipykernel_41276\\321558702.py:18: RuntimeWarning: overflow encountered in exp\n",
      "  gradient_loss = - (np.transpose(x) @ (y / (1+np.exp(exponent)))) / (\n"
     ]
    },
    {
     "name": "stdout",
     "output_type": "stream",
     "text": [
      "Final accuracy with epsilon = 1 and epochs = 100:   0.33757187085360457\n",
      "Final accuracy with epsilon = 10 and epochs = 100:    0.3455329500221141\n",
      "Final accuracy with epsilon = .5 and epochs = 20:   0.5605926581158779\n",
      "Final accuracy with epsilon = 1 and epochs = 20:   0.7113003095975232\n",
      "Final accuracy with epsilon = 5 and epochs = 20:   0.7551968155683326\n",
      "Final accuracy with epsilon = 10 and epochs = 20:   0.6884122069880584\n"
     ]
    }
   ],
   "source": [
    "def batch_gradient_epsilon_delta_descent(epochs, epsilon, delta, n):\n",
    "    \n",
    "    theta = np.zeros(X_train.shape[1])\n",
    "    regression = LogisticRegression()\n",
    "    epsilon_i = epsilon/epochs\n",
    "    delta_i = delta/epochs\n",
    "    b=3\n",
    "    \n",
    "    # Loop through epochs\n",
    "    for _ in range(epochs):\n",
    "        # Compute gradient using the vectorized function\n",
    "        \n",
    "        grad = regression.gradient(theta, X_train, y_train, lambda_param=None)\n",
    "        clipped_grad = L2_clip(grad, b)\n",
    "        grad_noisy = gaussian_mech_vec(clipped_grad, sensitivity=b, epsilon=epsilon_i, delta = delta_i)\n",
    "        noisy_array = np.array(grad_noisy)\n",
    "\n",
    "        # Update the parameters (theta)\n",
    "        theta -= n * noisy_array\n",
    "\n",
    "    #print(theta)\n",
    "    return theta\n",
    "\n",
    "theta0 = batch_gradient_epsilon_delta_descent(20, 1, 1e-5, 1)\n",
    "theta1 = batch_gradient_epsilon_delta_descent(20, 10, 1e-5, 1)\n",
    "theta2 = batch_gradient_epsilon_delta_descent(10, .5, 1e-5, 1)\n",
    "theta3 = batch_gradient_epsilon_delta_descent(10, 1, 1e-5, 1)\n",
    "theta4 = batch_gradient_epsilon_delta_descent(10, 5, 1e-5, 1)\n",
    "theta5 = batch_gradient_epsilon_delta_descent(10, 10, 1e-5, 1)\n",
    "\n",
    "print('Final accuracy with epsilon = 1 and epochs = 100:  ', accuracy(theta0))\n",
    "print('Final accuracy with epsilon = 10 and epochs = 100:   ', accuracy(theta1))\n",
    "print('Final accuracy with epsilon = .5 and epochs = 20:  ', accuracy(theta2))\n",
    "print('Final accuracy with epsilon = 1 and epochs = 20:  ', accuracy(theta3))\n",
    "print('Final accuracy with epsilon = 5 and epochs = 20:  ', accuracy(theta4))\n",
    "print('Final accuracy with epsilon = 10 and epochs = 20:  ', accuracy(theta5))"
   ]
  },
  {
   "cell_type": "markdown",
   "id": "944f7012-8996-4acf-b126-5b41e6b06552",
   "metadata": {},
   "source": [
    "### RDP ###"
   ]
  },
  {
   "cell_type": "code",
   "execution_count": 160,
   "id": "8c00f99f-3676-4160-a017-0793dd74a911",
   "metadata": {},
   "outputs": [
    {
     "name": "stderr",
     "output_type": "stream",
     "text": [
      "C:\\Users\\darkf\\AppData\\Local\\Temp\\ipykernel_41276\\321558702.py:18: RuntimeWarning: overflow encountered in exp\n",
      "  gradient_loss = - (np.transpose(x) @ (y / (1+np.exp(exponent)))) / (\n"
     ]
    },
    {
     "name": "stdout",
     "output_type": "stream",
     "text": [
      "Final accuracy with epsilon = .01 and epochs = 50:   0.5515258735072976\n",
      "Final accuracy with epsilon = .1:   0.4399601946041575\n",
      "Final accuracy with epsilon = 1:   0.7058823529411765\n",
      "Final accuracy with epsilon = 10:   0.5139318885448917\n",
      "Final accuracy with epsilon = 100:   0.5218929677134011\n",
      "Final accuracy with epsilon = 10 and epochs = 50:   0.718266253869969\n"
     ]
    }
   ],
   "source": [
    "def gaussian_mech_RDP_vec(vec, sensitivity, alpha, epsilon):\n",
    "    sigma = np.sqrt((sensitivity**2 * alpha) / (2 * epsilon))\n",
    "    return [v + np.random.normal(loc=0, scale=sigma) for v in vec]\n",
    "\n",
    "def batch_gradient_rdp_descent(epochs, epsilon_bar, alpha, n):\n",
    "    \n",
    "    theta = np.zeros(X_train.shape[1])\n",
    "    \n",
    "    regression = LogisticRegression()\n",
    "    \n",
    "    epsilon_i = epsilon_bar/epochs\n",
    "    alpha_i = alpha/epochs\n",
    "    b=3\n",
    "    \n",
    "    # Loop through epochs\n",
    "    for _ in range(epochs):\n",
    "        # Compute gradient using the vectorized function\n",
    "        \n",
    "        grad = regression.gradient(theta, X_train, y_train, lambda_param=None)\n",
    "        clipped_grad = L2_clip(grad, b)\n",
    "        grad_noisy = gaussian_mech_RDP_vec(clipped_grad, sensitivity=b, alpha=alpha_i, epsilon=epsilon_i)\n",
    "        noisy_array = np.array(grad_noisy)\n",
    "\n",
    "        # Update the parameters (theta)\n",
    "        theta -= n * noisy_array\n",
    "\n",
    "    #print(theta)\n",
    "    return theta\n",
    "\n",
    "theta0 = batch_gradient_rdp_descent(10, .01, 3, 1)\n",
    "theta1 = batch_gradient_rdp_descent(10, .1, 3, 1)\n",
    "theta2 = batch_gradient_rdp_descent(10, 2, 3, 1)\n",
    "theta3 = batch_gradient_rdp_descent(10, .01, 5, 1)\n",
    "theta4 = batch_gradient_rdp_descent(10, .1, 5, 1)\n",
    "theta5 = batch_gradient_rdp_descent(10, 2, 5, 1)\n",
    "\n",
    "print('Final accuracy with epsilon = .01 and epochs = 50:  ', accuracy(theta0))\n",
    "print('Final accuracy with epsilon = .1:  ', accuracy(theta1))\n",
    "print('Final accuracy with epsilon = 1:  ', accuracy(theta2))\n",
    "print('Final accuracy with epsilon = 10:  ', accuracy(theta3))\n",
    "print('Final accuracy with epsilon = 100:  ', accuracy(theta4))\n",
    "print('Final accuracy with epsilon = 10 and epochs = 50:  ', accuracy(theta5))"
   ]
  },
  {
   "cell_type": "code",
   "execution_count": null,
   "id": "0383d07e-039d-465e-b8f8-80d204d6f043",
   "metadata": {},
   "outputs": [],
   "source": [
    "#taken from class\n",
    "def rdp_convert(alpha, epsilon_bar, delta): #return epsilon\n",
    "    return epsilon_bar + np.log(1/delta) / (alpha - 1)\n",
    "\n",
    "rdp_convert(3, 20, 1e-5)"
   ]
  },
  {
   "cell_type": "markdown",
   "id": "1d065c05-c6a4-45c5-bb63-75236156c2a2",
   "metadata": {},
   "source": [
    "### zCDP ###"
   ]
  },
  {
   "cell_type": "code",
   "execution_count": 106,
   "id": "c6c92e09-4a68-4eaf-a223-0e17f8e418e0",
   "metadata": {},
   "outputs": [
    {
     "name": "stderr",
     "output_type": "stream",
     "text": [
      "C:\\Users\\darkf\\AppData\\Local\\Temp\\ipykernel_41276\\321558702.py:18: RuntimeWarning: overflow encountered in exp\n",
      "  gradient_loss = - (np.transpose(x) @ (y / (1+np.exp(exponent)))) / (\n"
     ]
    },
    {
     "name": "stdout",
     "output_type": "stream",
     "text": [
      "Final accuracy with epsilon = .01:   0.6939407341884122\n",
      "Final accuracy with epsilon = .1:   0.5856921716054843\n",
      "Final accuracy with epsilon = 1:   0.6377708978328174\n",
      "Final accuracy with epsilon = 10:   0.2951127819548872\n",
      "Final accuracy with epsilon = 100:   0.6843210968597966\n",
      "Final accuracy with epsilon = 10 and epochs = 20:   0.7235736399823087\n"
     ]
    }
   ],
   "source": [
    "def gaussian_mech_zCDP_vec(vec, sensitivity, rho):\n",
    "    sigma = np.sqrt((sensitivity**2) / (2 * rho))\n",
    "    return [v + np.random.normal(loc=0, scale=sigma) for v in vec]\n",
    "\n",
    "def batch_gradient_zcdp_descent(epochs, rho, n):\n",
    "    \n",
    "    theta = np.zeros(X_train.shape[1])\n",
    "    \n",
    "    regression = LogisticRegression()\n",
    "    \n",
    "    rho_i = rho/epochs\n",
    "    b=3\n",
    "    \n",
    "    # Loop through epochs\n",
    "    for _ in range(epochs):\n",
    "        # Compute gradient using the vectorized function\n",
    "        \n",
    "        grad = regression.gradient(theta, X_train, y_train, lambda_param=None)\n",
    "        clipped_grad = L2_clip(grad, b)\n",
    "        grad_noisy = gaussian_mech_zCDP_vec(clipped_grad, sensitivity=b, rho=rho_i)\n",
    "        noisy_array = np.array(grad_noisy)\n",
    "\n",
    "        # Update the parameters (theta)\n",
    "        theta -= n * noisy_array\n",
    "\n",
    "    #print(theta)\n",
    "    return theta\n",
    "\n",
    "theta0 = batch_gradient_zcdp_descent(10, .001, 1)\n",
    "theta1 = batch_gradient_zcdp_descent(10, .01, 1)\n",
    "theta2 = batch_gradient_zcdp_descent(10, .1, 1)\n",
    "theta3 = batch_gradient_zcdp_descent(10, 1, 1)\n",
    "theta4 = batch_gradient_zcdp_descent(10, 2, 1)\n",
    "theta5 = batch_gradient_zcdp_descent(10, 10, 1)\n",
    "\n",
    "print('Final accuracy with epsilon = .01:  ', accuracy(theta0))\n",
    "print('Final accuracy with epsilon = .1:  ', accuracy(theta1))\n",
    "print('Final accuracy with epsilon = 1:  ', accuracy(theta2))\n",
    "print('Final accuracy with epsilon = 10:  ', accuracy(theta3))\n",
    "print('Final accuracy with epsilon = 100:  ', accuracy(theta4))\n",
    "print('Final accuracy with epsilon = 10 and epochs = 20:  ', accuracy(theta5))"
   ]
  },
  {
   "cell_type": "code",
   "execution_count": 142,
   "id": "1f0db037-4b4e-4608-b501-9a1a3e83f5f8",
   "metadata": {},
   "outputs": [
    {
     "data": {
      "text/plain": [
       "11.597051824376162"
      ]
     },
     "execution_count": 142,
     "metadata": {},
     "output_type": "execute_result"
    }
   ],
   "source": [
    "#taken from class\n",
    "def zcdp_convert(rho, delta):\n",
    "    return rho + 2 * np.sqrt(rho * np.log(1 / delta))\n",
    "\n",
    "zcdp_convert(2, 1e-5)"
   ]
  },
  {
   "cell_type": "code",
   "execution_count": null,
   "id": "262b40be-d6d0-47a2-b2cf-614423bcce1b",
   "metadata": {},
   "outputs": [],
   "source": [
    "# Moving forward - need to convert to epsilon-delta for zCDP and RDP to determine \n",
    "# which produces the best accuracy"
   ]
  },
  {
   "cell_type": "code",
   "execution_count": 170,
   "id": "4124d9bb-2286-49ed-903c-7ead0905098c",
   "metadata": {},
   "outputs": [
    {
     "name": "stderr",
     "output_type": "stream",
     "text": [
      "C:\\Users\\darkf\\AppData\\Local\\Temp\\ipykernel_41276\\2581392234.py:18: RuntimeWarning: overflow encountered in exp\n",
      "  gradient_loss = - (np.transpose(x) @ (y / (1+np.exp(exponent)))) / (\n"
     ]
    },
    {
     "name": "stdout",
     "output_type": "stream",
     "text": [
      "0.5345975232198144\n",
      "0.46572313135780624\n",
      "0.5641585581601062\n",
      "0.6046826625386996\n"
     ]
    }
   ],
   "source": [
    "ep_avg = np.mean([accuracy(batch_gradient_epsilon_descent(10, 5, 1)) for i in range(20)])\n",
    "delta_avg = np.mean([accuracy(batch_gradient_epsilon_delta_descent(10, 5, 1e-5, 1)) for i in range(20)])\n",
    "renyi_avg = np.mean([accuracy(batch_gradient_rdp_descent(10, 2, 3, 1)) for i in range(20)])\n",
    "zcdp_avg = np.mean([accuracy(batch_gradient_zcdp_descent(10, 10, 1)) for i in range(20)])\n",
    "\n",
    "print(ep_avg)\n",
    "print(delta_avg)\n",
    "print(renyi_avg)\n",
    "print(zcdp_avg)"
   ]
  },
  {
   "cell_type": "code",
   "execution_count": null,
   "id": "f107d4e2-6cce-4801-acc7-dfbe8a012546",
   "metadata": {},
   "outputs": [],
   "source": []
  }
 ],
 "metadata": {
  "kernelspec": {
   "display_name": "Python 3 (ipykernel)",
   "language": "python",
   "name": "python3"
  },
  "language_info": {
   "codemirror_mode": {
    "name": "ipython",
    "version": 3
   },
   "file_extension": ".py",
   "mimetype": "text/x-python",
   "name": "python",
   "nbconvert_exporter": "python",
   "pygments_lexer": "ipython3",
   "version": "3.12.4"
  }
 },
 "nbformat": 4,
 "nbformat_minor": 5
}
